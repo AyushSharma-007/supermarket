{
 "cells": [
  {
   "cell_type": "code",
   "execution_count": 2,
   "id": "5b54146a-83ca-4c69-9572-28dd2cd22932",
   "metadata": {},
   "outputs": [],
   "source": [
    "import pandas as pd\n",
    "import numpy as np\n",
    "import seaborn as sns\n",
    "import matplotlib.pyplot as plt"
   ]
  },
  {
   "cell_type": "code",
   "execution_count": 3,
   "id": "19372a74-aab8-4463-aea9-2cf3bc5583c2",
   "metadata": {},
   "outputs": [
    {
     "data": {
      "text/html": [
       "<div>\n",
       "<style scoped>\n",
       "    .dataframe tbody tr th:only-of-type {\n",
       "        vertical-align: middle;\n",
       "    }\n",
       "\n",
       "    .dataframe tbody tr th {\n",
       "        vertical-align: top;\n",
       "    }\n",
       "\n",
       "    .dataframe thead th {\n",
       "        text-align: right;\n",
       "    }\n",
       "</style>\n",
       "<table border=\"1\" class=\"dataframe\">\n",
       "  <thead>\n",
       "    <tr style=\"text-align: right;\">\n",
       "      <th></th>\n",
       "      <th>Customer ID</th>\n",
       "      <th>Age</th>\n",
       "      <th>Gender</th>\n",
       "      <th>Annual Income</th>\n",
       "      <th>Spending Score</th>\n",
       "    </tr>\n",
       "  </thead>\n",
       "  <tbody>\n",
       "    <tr>\n",
       "      <th>0</th>\n",
       "      <td>d410ea53-6661-42a9-ad3a-f554b05fd2a7</td>\n",
       "      <td>30</td>\n",
       "      <td>Male</td>\n",
       "      <td>151479</td>\n",
       "      <td>89</td>\n",
       "    </tr>\n",
       "    <tr>\n",
       "      <th>1</th>\n",
       "      <td>1770b26f-493f-46b6-837f-4237fb5a314e</td>\n",
       "      <td>58</td>\n",
       "      <td>Female</td>\n",
       "      <td>185088</td>\n",
       "      <td>95</td>\n",
       "    </tr>\n",
       "    <tr>\n",
       "      <th>2</th>\n",
       "      <td>e81aa8eb-1767-4b77-87ce-1620dc732c5e</td>\n",
       "      <td>62</td>\n",
       "      <td>Female</td>\n",
       "      <td>70912</td>\n",
       "      <td>76</td>\n",
       "    </tr>\n",
       "    <tr>\n",
       "      <th>3</th>\n",
       "      <td>9795712a-ad19-47bf-8886-4f997d6046e3</td>\n",
       "      <td>23</td>\n",
       "      <td>Male</td>\n",
       "      <td>55460</td>\n",
       "      <td>57</td>\n",
       "    </tr>\n",
       "    <tr>\n",
       "      <th>4</th>\n",
       "      <td>64139426-2226-4cd6-bf09-91bce4b4db5e</td>\n",
       "      <td>24</td>\n",
       "      <td>Male</td>\n",
       "      <td>153752</td>\n",
       "      <td>76</td>\n",
       "    </tr>\n",
       "    <tr>\n",
       "      <th>...</th>\n",
       "      <td>...</td>\n",
       "      <td>...</td>\n",
       "      <td>...</td>\n",
       "      <td>...</td>\n",
       "      <td>...</td>\n",
       "    </tr>\n",
       "    <tr>\n",
       "      <th>15074</th>\n",
       "      <td>a0504768-a85f-4930-ac24-55bc8e4fec9e</td>\n",
       "      <td>29</td>\n",
       "      <td>Female</td>\n",
       "      <td>97723</td>\n",
       "      <td>30</td>\n",
       "    </tr>\n",
       "    <tr>\n",
       "      <th>15075</th>\n",
       "      <td>a08c4e0e-d1fe-48e7-9366-aab11ae409cd</td>\n",
       "      <td>22</td>\n",
       "      <td>Male</td>\n",
       "      <td>73361</td>\n",
       "      <td>74</td>\n",
       "    </tr>\n",
       "    <tr>\n",
       "      <th>15076</th>\n",
       "      <td>0e87c25a-268c-401a-8ba1-7111dcde6f1a</td>\n",
       "      <td>18</td>\n",
       "      <td>Female</td>\n",
       "      <td>112337</td>\n",
       "      <td>48</td>\n",
       "    </tr>\n",
       "    <tr>\n",
       "      <th>15077</th>\n",
       "      <td>5f388cbe-3373-4e16-b743-38f508f2249f</td>\n",
       "      <td>26</td>\n",
       "      <td>Female</td>\n",
       "      <td>94312</td>\n",
       "      <td>5</td>\n",
       "    </tr>\n",
       "    <tr>\n",
       "      <th>15078</th>\n",
       "      <td>b8b8f561-ebca-4401-8afe-544c906554ba</td>\n",
       "      <td>19</td>\n",
       "      <td>Male</td>\n",
       "      <td>78045</td>\n",
       "      <td>2</td>\n",
       "    </tr>\n",
       "  </tbody>\n",
       "</table>\n",
       "<p>15079 rows × 5 columns</p>\n",
       "</div>"
      ],
      "text/plain": [
       "                                Customer ID  Age  Gender  Annual Income  \\\n",
       "0      d410ea53-6661-42a9-ad3a-f554b05fd2a7   30    Male         151479   \n",
       "1      1770b26f-493f-46b6-837f-4237fb5a314e   58  Female         185088   \n",
       "2      e81aa8eb-1767-4b77-87ce-1620dc732c5e   62  Female          70912   \n",
       "3      9795712a-ad19-47bf-8886-4f997d6046e3   23    Male          55460   \n",
       "4      64139426-2226-4cd6-bf09-91bce4b4db5e   24    Male         153752   \n",
       "...                                     ...  ...     ...            ...   \n",
       "15074  a0504768-a85f-4930-ac24-55bc8e4fec9e   29  Female          97723   \n",
       "15075  a08c4e0e-d1fe-48e7-9366-aab11ae409cd   22    Male          73361   \n",
       "15076  0e87c25a-268c-401a-8ba1-7111dcde6f1a   18  Female         112337   \n",
       "15077  5f388cbe-3373-4e16-b743-38f508f2249f   26  Female          94312   \n",
       "15078  b8b8f561-ebca-4401-8afe-544c906554ba   19    Male          78045   \n",
       "\n",
       "       Spending Score  \n",
       "0                  89  \n",
       "1                  95  \n",
       "2                  76  \n",
       "3                  57  \n",
       "4                  76  \n",
       "...               ...  \n",
       "15074              30  \n",
       "15075              74  \n",
       "15076              48  \n",
       "15077               5  \n",
       "15078               2  \n",
       "\n",
       "[15079 rows x 5 columns]"
      ]
     },
     "execution_count": 3,
     "metadata": {},
     "output_type": "execute_result"
    }
   ],
   "source": [
    "df = pd.read_csv(r\"C:\\Users\\ACER PC\\Dropbox\\My PC (LAPTOP-83BUHU5P)\\Downloads\\Shopping Mall Customer Segmentation Data .csv\")\n",
    "df"
   ]
  },
  {
   "cell_type": "code",
   "execution_count": 4,
   "id": "d3f94fb2-0db3-4130-af31-ee794d6bc4eb",
   "metadata": {},
   "outputs": [],
   "source": [
    "n = df.copy()"
   ]
  },
  {
   "cell_type": "code",
   "execution_count": 5,
   "id": "3aec574e-c703-46ab-8842-ab028caed224",
   "metadata": {},
   "outputs": [
    {
     "data": {
      "text/html": [
       "<div>\n",
       "<style scoped>\n",
       "    .dataframe tbody tr th:only-of-type {\n",
       "        vertical-align: middle;\n",
       "    }\n",
       "\n",
       "    .dataframe tbody tr th {\n",
       "        vertical-align: top;\n",
       "    }\n",
       "\n",
       "    .dataframe thead th {\n",
       "        text-align: right;\n",
       "    }\n",
       "</style>\n",
       "<table border=\"1\" class=\"dataframe\">\n",
       "  <thead>\n",
       "    <tr style=\"text-align: right;\">\n",
       "      <th></th>\n",
       "      <th>Age</th>\n",
       "      <th>Annual Income</th>\n",
       "      <th>Spending Score</th>\n",
       "    </tr>\n",
       "  </thead>\n",
       "  <tbody>\n",
       "    <tr>\n",
       "      <th>count</th>\n",
       "      <td>15079.000000</td>\n",
       "      <td>15079.000000</td>\n",
       "      <td>15079.000000</td>\n",
       "    </tr>\n",
       "    <tr>\n",
       "      <th>mean</th>\n",
       "      <td>54.191591</td>\n",
       "      <td>109742.880562</td>\n",
       "      <td>50.591617</td>\n",
       "    </tr>\n",
       "    <tr>\n",
       "      <th>std</th>\n",
       "      <td>21.119207</td>\n",
       "      <td>52249.425866</td>\n",
       "      <td>28.726977</td>\n",
       "    </tr>\n",
       "    <tr>\n",
       "      <th>min</th>\n",
       "      <td>18.000000</td>\n",
       "      <td>20022.000000</td>\n",
       "      <td>1.000000</td>\n",
       "    </tr>\n",
       "    <tr>\n",
       "      <th>25%</th>\n",
       "      <td>36.000000</td>\n",
       "      <td>64141.000000</td>\n",
       "      <td>26.000000</td>\n",
       "    </tr>\n",
       "    <tr>\n",
       "      <th>50%</th>\n",
       "      <td>54.000000</td>\n",
       "      <td>109190.000000</td>\n",
       "      <td>51.000000</td>\n",
       "    </tr>\n",
       "    <tr>\n",
       "      <th>75%</th>\n",
       "      <td>72.000000</td>\n",
       "      <td>155008.000000</td>\n",
       "      <td>75.000000</td>\n",
       "    </tr>\n",
       "    <tr>\n",
       "      <th>max</th>\n",
       "      <td>90.000000</td>\n",
       "      <td>199974.000000</td>\n",
       "      <td>100.000000</td>\n",
       "    </tr>\n",
       "  </tbody>\n",
       "</table>\n",
       "</div>"
      ],
      "text/plain": [
       "                Age  Annual Income  Spending Score\n",
       "count  15079.000000   15079.000000    15079.000000\n",
       "mean      54.191591  109742.880562       50.591617\n",
       "std       21.119207   52249.425866       28.726977\n",
       "min       18.000000   20022.000000        1.000000\n",
       "25%       36.000000   64141.000000       26.000000\n",
       "50%       54.000000  109190.000000       51.000000\n",
       "75%       72.000000  155008.000000       75.000000\n",
       "max       90.000000  199974.000000      100.000000"
      ]
     },
     "execution_count": 5,
     "metadata": {},
     "output_type": "execute_result"
    }
   ],
   "source": [
    "n.describe()"
   ]
  },
  {
   "cell_type": "markdown",
   "id": "fe009b46-3840-4d33-97d2-b9f6414ce9c6",
   "metadata": {},
   "source": [
    "### QUESTIONS TO PRACTICE"
   ]
  },
  {
   "cell_type": "raw",
   "id": "39291c5a-7427-4a93-b277-7718ee687c6e",
   "metadata": {},
   "source": [
    "What are the basic summary statistics for age, income, and spending score?\n",
    "\n",
    "Calculate mean, median, and standard deviation for each of these columns.\n",
    "What is the distribution of gender within the dataset?\n",
    "\n",
    "Count and compare the proportion of male vs. female customers.\n",
    "Are there any outliers in income and spending score?\n",
    "\n",
    "Use box plots or interquartile range (IQR) methods to detect outliers in income and spending score.\n",
    "How many customers fall into specific income ranges?\n",
    "\n",
    "Create income categories (e.g., <50k, 50-100k, etc.) and count customers in each category.\n",
    "What is the correlation between age and spending score?\n",
    "\n",
    "Use correlation analysis to determine if there's a relationship between age and spending score.\n",
    "What age groups have the most customers?\n",
    "\n",
    "Segment customers by age ranges and count the number in each range.\n",
    "Do high-income customers have consistently high spending scores?\n",
    "\n",
    "Investigate if there’s a pattern between income and spending score by analyzing data across quartiles.\n",
    "How do average spending scores compare for each gender across different age groups?\n",
    "\n",
    "Group by gender and age range to compute and compare average spending scores.\n",
    "Are there any customers with similar income but vastly different spending scores?\n",
    "\n",
    "Identify pairs or groups of customers with similar incomes but a wide range in spending scores.\n",
    "What is the distribution of spending scores across age and income brackets?\n",
    "\n",
    "Create segmented groups for age and income to analyze spending scores across different customer profiles.\n"
   ]
  },
  {
   "cell_type": "markdown",
   "id": "594f8ce3-3c5a-471e-9577-5c0aaee2239b",
   "metadata": {},
   "source": [
    "### What is the distribution of gender within the dataset?"
   ]
  },
  {
   "cell_type": "code",
   "execution_count": 6,
   "id": "d2905c64-ff83-4ea9-b93c-1897cc4b93d3",
   "metadata": {},
   "outputs": [
    {
     "data": {
      "text/plain": [
       "Index(['Customer ID', 'Age', 'Gender', 'Annual Income', 'Spending Score'], dtype='object')"
      ]
     },
     "execution_count": 6,
     "metadata": {},
     "output_type": "execute_result"
    }
   ],
   "source": [
    "n.columns"
   ]
  },
  {
   "cell_type": "code",
   "execution_count": 7,
   "id": "6efeff9f-be93-4d17-8ccf-69cbdbc0f6d7",
   "metadata": {},
   "outputs": [
    {
     "data": {
      "text/plain": [
       "Customer ID       object\n",
       "Age                int64\n",
       "Gender            object\n",
       "Annual Income      int64\n",
       "Spending Score     int64\n",
       "dtype: object"
      ]
     },
     "execution_count": 7,
     "metadata": {},
     "output_type": "execute_result"
    }
   ],
   "source": [
    "n.dtypes"
   ]
  },
  {
   "cell_type": "code",
   "execution_count": 8,
   "id": "b828435c-6509-492f-9498-1186f9fdc915",
   "metadata": {},
   "outputs": [
    {
     "name": "stdout",
     "output_type": "stream",
     "text": [
      "Gender\n",
      "Female    109902.799572\n",
      "Male      109585.298749\n",
      "Name: Annual Income, dtype: float64\n"
     ]
    },
    {
     "data": {
      "image/png": "[encoded data removed]",
      "text/plain": [
       "<Figure size 800x600 with 1 Axes>"
      ]
     },
     "metadata": {},
     "output_type": "display_data"
    }
   ],
   "source": [
    "n1 = n.groupby('Gender')['Annual Income'].mean()\n",
    "print(n1)\n",
    "plt.figure(figsize = (8,6))\n",
    "n1.plot(kind = 'bar')\n",
    "plt.title(\"Gender-Annual-Income\")\n",
    "plt.xlabel(\"Gender\")\n",
    "plt.ylabel('Annual Income')\n",
    "plt.tight_layout\n",
    "plt.show()"
   ]
  },
  {
   "cell_type": "code",
   "execution_count": 9,
   "id": "3304652c-cee6-4748-a796-1e955e1fa07e",
   "metadata": {},
   "outputs": [
    {
     "data": {
      "image/png": "[encoded data removed]",
      "text/plain": [
       "<Figure size 800x600 with 1 Axes>"
      ]
     },
     "metadata": {},
     "output_type": "display_data"
    }
   ],
   "source": [
    "gender_distribution = n[\"Gender\"].value_counts(normalize=True) * 100\n",
    "plt.figure(figsize = (8,6))\n",
    "gender_distribution.plot(kind = 'bar')\n",
    "plt.title(\"Gender-Distribution\")\n",
    "plt.xlabel(\"Gender\")\n",
    "plt.ylabel('Distribution')\n",
    "plt.tight_layout\n",
    "plt.show()"
   ]
  },
  {
   "cell_type": "code",
   "execution_count": 10,
   "id": "02f9564e-cf77-4dde-845d-08a4eb10f765",
   "metadata": {},
   "outputs": [
    {
     "data": {
      "text/plain": [
       "Gender\n",
       "Male      50.368062\n",
       "Female    49.631938\n",
       "Name: proportion, dtype: float64"
      ]
     },
     "execution_count": 10,
     "metadata": {},
     "output_type": "execute_result"
    }
   ],
   "source": [
    "gender_distribution"
   ]
  },
  {
   "cell_type": "markdown",
   "id": "4fc1e0e7-2de0-43c1-b0a4-94b764494ede",
   "metadata": {},
   "source": [
    "### Are there any outliers in income and spending score?"
   ]
  },
  {
   "cell_type": "markdown",
   "id": "161a09fa-4fdf-4f2f-93a9-ab93b346e434",
   "metadata": {},
   "source": [
    "### OUTLIERS FOR INCOME "
   ]
  },
  {
   "cell_type": "code",
   "execution_count": 11,
   "id": "4e5416fb-8a60-4a16-8af9-22ce0614264b",
   "metadata": {},
   "outputs": [
    {
     "data": {
      "text/plain": [
       "Index(['Customer ID', 'Age', 'Gender', 'Annual Income', 'Spending Score'], dtype='object')"
      ]
     },
     "execution_count": 11,
     "metadata": {},
     "output_type": "execute_result"
    }
   ],
   "source": [
    "n.columns"
   ]
  },
  {
   "cell_type": "code",
   "execution_count": 12,
   "id": "9bff4b54-a748-4539-aef7-7dd72787572c",
   "metadata": {},
   "outputs": [
    {
     "name": "stdout",
     "output_type": "stream",
     "text": [
      "q1 64141.0\n",
      "q3 155008.0\n",
      "iqr 90867.0\n",
      "iqrmax 200441.5\n",
      "iqrmin 18707.5\n",
      "199974\n",
      "20022\n"
     ]
    }
   ],
   "source": [
    "q1 = n['Annual Income'].quantile(0.25)\n",
    "print(\"q1\",q1)\n",
    "q3 = n['Annual Income'].quantile(0.75)\n",
    "print(\"q3\",q3)\n",
    "iqr = q3-q1\n",
    "iqrmax = q3 + (0.5)*iqr\n",
    "iqrmin = q1 - (0.5)*iqr\n",
    "print(\"iqr\",iqr)\n",
    "print(\"iqrmax\",iqrmax)\n",
    "print(\"iqrmin\",iqrmin)\n",
    "print(n['Annual Income'].max())\n",
    "print(n['Annual Income'].min())"
   ]
  },
  {
   "cell_type": "code",
   "execution_count": 13,
   "id": "b9bc3f0d-5274-4a54-bcb7-0cbe8aa78309",
   "metadata": {},
   "outputs": [
    {
     "data": {
      "text/html": [
       "<div>\n",
       "<style scoped>\n",
       "    .dataframe tbody tr th:only-of-type {\n",
       "        vertical-align: middle;\n",
       "    }\n",
       "\n",
       "    .dataframe tbody tr th {\n",
       "        vertical-align: top;\n",
       "    }\n",
       "\n",
       "    .dataframe thead th {\n",
       "        text-align: right;\n",
       "    }\n",
       "</style>\n",
       "<table border=\"1\" class=\"dataframe\">\n",
       "  <thead>\n",
       "    <tr style=\"text-align: right;\">\n",
       "      <th></th>\n",
       "      <th>Customer ID</th>\n",
       "      <th>Age</th>\n",
       "      <th>Gender</th>\n",
       "      <th>Annual Income</th>\n",
       "      <th>Spending Score</th>\n",
       "    </tr>\n",
       "  </thead>\n",
       "  <tbody>\n",
       "  </tbody>\n",
       "</table>\n",
       "</div>"
      ],
      "text/plain": [
       "Empty DataFrame\n",
       "Columns: [Customer ID, Age, Gender, Annual Income, Spending Score]\n",
       "Index: []"
      ]
     },
     "execution_count": 13,
     "metadata": {},
     "output_type": "execute_result"
    }
   ],
   "source": [
    "n[(n['Annual Income']>iqrmax) | (n[\"Annual Income\"]<iqrmin)]"
   ]
  },
  {
   "cell_type": "markdown",
   "id": "eb2d459d-6c23-4494-b0c6-9d421d630998",
   "metadata": {},
   "source": [
    "###### there is no outlier in annual income"
   ]
  },
  {
   "cell_type": "markdown",
   "id": "a6f0a0e4-ece6-43c7-bb2f-ae79f84ed7ca",
   "metadata": {},
   "source": [
    "### for spending score"
   ]
  },
  {
   "cell_type": "code",
   "execution_count": 14,
   "id": "fd58cabc-7c4e-4f3f-b615-f5f87c3ebf63",
   "metadata": {},
   "outputs": [
    {
     "name": "stdout",
     "output_type": "stream",
     "text": [
      "q1 26.0\n",
      "q3 75.0\n",
      "iqr 49.0\n",
      "iqrmax 148.5\n",
      "iqrmin -47.5\n",
      "100\n",
      "1\n",
      "50.59161748126534\n"
     ]
    }
   ],
   "source": [
    "q1 = n['Spending Score'].quantile(0.25)\n",
    "print(\"q1\",q1)\n",
    "q3 = n['Spending Score'].quantile(0.75)\n",
    "print(\"q3\",q3)\n",
    "iqr = q3-q1\n",
    "iqrmax = q3 + (1.5)*iqr\n",
    "iqrmin = q1 - (1.5)*iqr\n",
    "print(\"iqr\",iqr)\n",
    "print(\"iqrmax\",iqrmax)\n",
    "print(\"iqrmin\",iqrmin)\n",
    "print(n['Spending Score'].max())\n",
    "print(n['Spending Score'].min())\n",
    "print(n['Spending Score'].mean())"
   ]
  },
  {
   "cell_type": "code",
   "execution_count": 15,
   "id": "692a8f43-921d-436c-aba3-a8983b211a29",
   "metadata": {},
   "outputs": [
    {
     "data": {
      "text/html": [
       "<div>\n",
       "<style scoped>\n",
       "    .dataframe tbody tr th:only-of-type {\n",
       "        vertical-align: middle;\n",
       "    }\n",
       "\n",
       "    .dataframe tbody tr th {\n",
       "        vertical-align: top;\n",
       "    }\n",
       "\n",
       "    .dataframe thead th {\n",
       "        text-align: right;\n",
       "    }\n",
       "</style>\n",
       "<table border=\"1\" class=\"dataframe\">\n",
       "  <thead>\n",
       "    <tr style=\"text-align: right;\">\n",
       "      <th></th>\n",
       "      <th>Customer ID</th>\n",
       "      <th>Age</th>\n",
       "      <th>Gender</th>\n",
       "      <th>Annual Income</th>\n",
       "      <th>Spending Score</th>\n",
       "    </tr>\n",
       "  </thead>\n",
       "  <tbody>\n",
       "  </tbody>\n",
       "</table>\n",
       "</div>"
      ],
      "text/plain": [
       "Empty DataFrame\n",
       "Columns: [Customer ID, Age, Gender, Annual Income, Spending Score]\n",
       "Index: []"
      ]
     },
     "execution_count": 15,
     "metadata": {},
     "output_type": "execute_result"
    }
   ],
   "source": [
    "n[(n['Spending Score']>iqrmax) | (n[\"Spending Score\"]<iqrmin)]"
   ]
  },
  {
   "cell_type": "code",
   "execution_count": 16,
   "id": "5cdcb22c-32fa-4da3-94b5-80751e1c8a2e",
   "metadata": {},
   "outputs": [
    {
     "data": {
      "text/plain": [
       "Customer ID       15079\n",
       "Age               15079\n",
       "Gender            15079\n",
       "Annual Income     15079\n",
       "Spending Score    15079\n",
       "dtype: int64"
      ]
     },
     "execution_count": 16,
     "metadata": {},
     "output_type": "execute_result"
    }
   ],
   "source": [
    "n.count()"
   ]
  },
  {
   "cell_type": "code",
   "execution_count": 17,
   "id": "7671455f-d19a-429f-b480-6faaaab6903f",
   "metadata": {},
   "outputs": [
    {
     "data": {
      "text/plain": [
       "0.0032341193354843457"
      ]
     },
     "execution_count": 17,
     "metadata": {},
     "output_type": "execute_result"
    }
   ],
   "source": [
    "ncorr = n['Spending Score'].corr(n['Annual Income'])\n",
    "ncorr"
   ]
  },
  {
   "cell_type": "code",
   "execution_count": 18,
   "id": "4389178a-eb97-4734-81bc-aea0a786bc17",
   "metadata": {},
   "outputs": [
    {
     "data": {
      "text/plain": [
       "0.0032341193354843457"
      ]
     },
     "execution_count": 18,
     "metadata": {},
     "output_type": "execute_result"
    }
   ],
   "source": [
    "ncorr = n['Annual Income'].corr(n['Spending Score'])\n",
    "ncorr"
   ]
  },
  {
   "cell_type": "markdown",
   "id": "01f026ed-2334-427d-ba18-3c33fa9b4ec7",
   "metadata": {},
   "source": [
    "### How many customers fall into specific income ranges?"
   ]
  },
  {
   "cell_type": "code",
   "execution_count": 19,
   "id": "b15b1ba2-9af8-4b35-9928-9c5684faa25b",
   "metadata": {},
   "outputs": [
    {
     "data": {
      "text/plain": [
       "20022"
      ]
     },
     "execution_count": 19,
     "metadata": {},
     "output_type": "execute_result"
    }
   ],
   "source": [
    "n['Annual Income'].min()"
   ]
  },
  {
   "cell_type": "code",
   "execution_count": 20,
   "id": "b7b4a115-c0e6-4b43-847d-3e0946d863b2",
   "metadata": {},
   "outputs": [
    {
     "data": {
      "text/plain": [
       "199974"
      ]
     },
     "execution_count": 20,
     "metadata": {},
     "output_type": "execute_result"
    }
   ],
   "source": [
    "n['Annual Income'].max()"
   ]
  },
  {
   "cell_type": "code",
   "execution_count": 21,
   "id": "ec5821fd-8b36-44e0-816d-78a2a9f698ec",
   "metadata": {},
   "outputs": [
    {
     "ename": "SyntaxError",
     "evalue": "invalid syntax (415982019.py, line 1)",
     "output_type": "error",
     "traceback": [
      "\u001b[1;36m  Cell \u001b[1;32mIn[21], line 1\u001b[1;36m\u001b[0m\n\u001b[1;33m    def income(Annual Income):\u001b[0m\n\u001b[1;37m                      ^\u001b[0m\n\u001b[1;31mSyntaxError\u001b[0m\u001b[1;31m:\u001b[0m invalid syntax\n"
     ]
    }
   ],
   "source": [
    "def income(Annual Income):\n",
    "    if Annual Income< 30000:\n",
    "        return \"Under 30,000\"\n",
    "    elif Annual Income< 50000:\n",
    "        return \"Under 50,000\"\n",
    "    elif Annual Income < 75000:\n",
    "        return \"Under 75,000\"\n",
    "    elif Annual Income < 100000:\n",
    "        return \"Under 1 lakh\"\n",
    "    elif Annual Income < 200000:\n",
    "        return \"Under 2 lakh\"\n",
    "    else:\n",
    "        return \"Invalid number\"\n",
    "n['Income Range'] = df['Annual Income'].apply(income)\n",
    "    "
   ]
  },
  {
   "cell_type": "code",
   "execution_count": 22,
   "id": "38e8770c-78f8-485c-b306-f04503bbd402",
   "metadata": {},
   "outputs": [
    {
     "data": {
      "text/html": [
       "<div>\n",
       "<style scoped>\n",
       "    .dataframe tbody tr th:only-of-type {\n",
       "        vertical-align: middle;\n",
       "    }\n",
       "\n",
       "    .dataframe tbody tr th {\n",
       "        vertical-align: top;\n",
       "    }\n",
       "\n",
       "    .dataframe thead th {\n",
       "        text-align: right;\n",
       "    }\n",
       "</style>\n",
       "<table border=\"1\" class=\"dataframe\">\n",
       "  <thead>\n",
       "    <tr style=\"text-align: right;\">\n",
       "      <th></th>\n",
       "      <th>Age</th>\n",
       "      <th>Annual Income</th>\n",
       "      <th>Spending Score</th>\n",
       "    </tr>\n",
       "  </thead>\n",
       "  <tbody>\n",
       "    <tr>\n",
       "      <th>count</th>\n",
       "      <td>15079.000000</td>\n",
       "      <td>15079.000000</td>\n",
       "      <td>15079.000000</td>\n",
       "    </tr>\n",
       "    <tr>\n",
       "      <th>mean</th>\n",
       "      <td>54.191591</td>\n",
       "      <td>109742.880562</td>\n",
       "      <td>50.591617</td>\n",
       "    </tr>\n",
       "    <tr>\n",
       "      <th>std</th>\n",
       "      <td>21.119207</td>\n",
       "      <td>52249.425866</td>\n",
       "      <td>28.726977</td>\n",
       "    </tr>\n",
       "    <tr>\n",
       "      <th>min</th>\n",
       "      <td>18.000000</td>\n",
       "      <td>20022.000000</td>\n",
       "      <td>1.000000</td>\n",
       "    </tr>\n",
       "    <tr>\n",
       "      <th>25%</th>\n",
       "      <td>36.000000</td>\n",
       "      <td>64141.000000</td>\n",
       "      <td>26.000000</td>\n",
       "    </tr>\n",
       "    <tr>\n",
       "      <th>50%</th>\n",
       "      <td>54.000000</td>\n",
       "      <td>109190.000000</td>\n",
       "      <td>51.000000</td>\n",
       "    </tr>\n",
       "    <tr>\n",
       "      <th>75%</th>\n",
       "      <td>72.000000</td>\n",
       "      <td>155008.000000</td>\n",
       "      <td>75.000000</td>\n",
       "    </tr>\n",
       "    <tr>\n",
       "      <th>max</th>\n",
       "      <td>90.000000</td>\n",
       "      <td>199974.000000</td>\n",
       "      <td>100.000000</td>\n",
       "    </tr>\n",
       "  </tbody>\n",
       "</table>\n",
       "</div>"
      ],
      "text/plain": [
       "                Age  Annual Income  Spending Score\n",
       "count  15079.000000   15079.000000    15079.000000\n",
       "mean      54.191591  109742.880562       50.591617\n",
       "std       21.119207   52249.425866       28.726977\n",
       "min       18.000000   20022.000000        1.000000\n",
       "25%       36.000000   64141.000000       26.000000\n",
       "50%       54.000000  109190.000000       51.000000\n",
       "75%       72.000000  155008.000000       75.000000\n",
       "max       90.000000  199974.000000      100.000000"
      ]
     },
     "execution_count": 22,
     "metadata": {},
     "output_type": "execute_result"
    }
   ],
   "source": [
    "n.describe()"
   ]
  },
  {
   "cell_type": "code",
   "execution_count": null,
   "id": "9b3a2783-9880-4838-9e59-3ddbacf1a5c6",
   "metadata": {},
   "outputs": [],
   "source": []
  },
  {
   "cell_type": "code",
   "execution_count": null,
   "id": "7229385b-ea32-4a4a-baaf-a1b03f822c06",
   "metadata": {},
   "outputs": [],
   "source": []
  }
 ],
 "metadata": {
  "kernelspec": {
   "display_name": "Python 3 (ipykernel)",
   "language": "python",
   "name": "python3"
  },
  "language_info": {
   "codemirror_mode": {
    "name": "ipython",
    "version": 3
   },
   "file_extension": ".py",
   "mimetype": "text/x-python",
   "name": "python",
   "nbconvert_exporter": "python",
   "pygments_lexer": "ipython3",
   "version": "3.12.3"
  }
 },
 "nbformat": 4,
 "nbformat_minor": 5
}
